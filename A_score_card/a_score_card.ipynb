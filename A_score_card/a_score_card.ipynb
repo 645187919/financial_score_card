{
 "cells": [
  {
   "cell_type": "code",
   "execution_count": 5,
   "metadata": {
    "ExecuteTime": {
     "end_time": "2020-08-16T13:31:23.689460Z",
     "start_time": "2020-08-16T13:31:23.685950Z"
    }
   },
   "outputs": [],
   "source": [
    "#!/usr/bin/env python \n",
    "# -*- coding: utf-8 -*- \n",
    "# @Time : 2020/8/16 11:31 \n",
    "# @Author : magician \n",
    "# @File : a_scores_card_copy.py \n",
    "# @Software: PyCharm\n",
    "import datetime\n",
    "import re\n",
    "import time\n",
    "import numpy as np\n",
    "import pandas as pd\n",
    "from dateutil.relativedelta import relativedelta\n",
    "from sklearn.model_selection import train_test_split\n",
    "import warnings\n",
    "warnings.filterwarnings(\"ignore\")"
   ]
  },
  {
   "cell_type": "markdown",
   "metadata": {},
   "source": [
    "## 第一步：数据预处理\n",
    "包括数据分析、观察，针对异常值、缺失值、数据格式的转化进行一个处理。"
   ]
  },
  {
   "cell_type": "code",
   "execution_count": 6,
   "metadata": {
    "ExecuteTime": {
     "end_time": "2020-08-16T13:31:29.708472Z",
     "start_time": "2020-08-16T13:31:29.301817Z"
    }
   },
   "outputs": [],
   "source": [
    "# 数据预处理\n",
    "# 1，读入数据\n",
    "# 2，选择合适的建模样本\n",
    "# 3，数据集划分成训练集和测试集\n",
    "allData = pd.read_csv('application.csv',header = 0, encoding = 'latin1')\n",
    "# print(allData.head(5))\n",
    "allData['term']=allData['term'].apply(lambda x:int(x.replace(\" months\",\"\")))\n",
    "allData['y']=allData['loan_status'].apply(lambda x:int(x==\"Charged Off\"))\n",
    "\n",
    "'''\n",
    "由于存在不同的贷款期限（term），申请评分卡模型评估的违约概率必须要在统一的期限中，且不宜太长，所以选取term＝36months的行本\n",
    "'''\n",
    "allData1 = allData.loc[allData.term == 36]\n",
    "trainData, testData = train_test_split(allData, test_size=0.4)"
   ]
  },
  {
   "cell_type": "markdown",
   "metadata": {},
   "source": [
    "### 数据预处理阶段定义一些数据转化的函数\n",
    "CareerYear(x)：#对工作年限进行转换  \n",
    "\n",
    "DescExisting(x):#将desc变量转换成有记录和无记录两种\n",
    "\n",
    "ConvertDateStr(x)：转化日期格式\n",
    "\n",
    "MonthGap():计算时间相差的月份"
   ]
  },
  {
   "cell_type": "code",
   "execution_count": 7,
   "metadata": {
    "ExecuteTime": {
     "end_time": "2020-08-16T13:31:31.340751Z",
     "start_time": "2020-08-16T13:31:31.334767Z"
    }
   },
   "outputs": [],
   "source": [
    "def CareerYear(x):\n",
    "    # print(x)\n",
    "    #对工作年限进行转换\n",
    "    if x.find('nan') > -1:\n",
    "        return -1\n",
    "    elif x.find(\"10+\")>-1:   #将\"10＋years\"转换成 11\n",
    "        return 11\n",
    "    elif x.find('< 1') > -1:  #将\"< 1 year\"转换成 0\n",
    "        return 0\n",
    "    else:\n",
    "        return re.sub(\"\\D\", \"\", x)  #其余数据，去掉\"years\"并转换成整数\n",
    "def DescExisting(x):\n",
    "    #将desc变量转换成有记录和无记录两种\n",
    "    if type(x).__name__ == 'float':#针对nan数据的处理方法。这是智能通过数据类型来准确的判断nan\n",
    "        return 'no desc'\n",
    "    else:\n",
    "        return 'desc'\n",
    "def ConvertDateStr(x,format):\n",
    "    if str(x) == 'nan':\n",
    "        return datetime.datetime.strptime('9900-1','%Y-%m')\n",
    "    else:\n",
    "        return datetime.datetime.strptime(x,format)\n",
    "def MakeupMissing(x):\n",
    "    if np.isnan(x):#判断一个元素是否是nan的方法\n",
    "        return -1\n",
    "    else:\n",
    "        return x"
   ]
  },
  {
   "cell_type": "code",
   "execution_count": 8,
   "metadata": {
    "ExecuteTime": {
     "end_time": "2020-08-16T13:31:33.291556Z",
     "start_time": "2020-08-16T13:31:32.568130Z"
    }
   },
   "outputs": [],
   "source": [
    "'''\n",
    "第一步：数据预处理，包括\n",
    "（1）数据清洗\n",
    "（2）格式转换\n",
    "（3）确实值填补\n",
    "'''\n",
    "# 将带％的百分比变为浮点数\n",
    "trainData['int_rate_clean'] = trainData['int_rate'].map(lambda x: float(x.replace('%',''))/100)\n",
    "\n",
    "# 将工作年限进行转化，否则影响排序\n",
    "trainData['emp_length_clean'] = trainData['emp_length'].astype(str).map(CareerYear)\n",
    "trainData['emp_length_clean']=trainData['emp_length_clean'].astype(int)\n",
    "\n",
    "# 将desc的缺失作为一种状态，非缺失作为另一种状态\n",
    "trainData['desc_clean'] = trainData['desc'].map(DescExisting)\n",
    "\n",
    "# 处理日期。earliest_cr_line的格式不统一，需要统一格式且转换成python的日期\n",
    "trainData['app_date_clean'] = trainData['issue_d'].map(lambda x: ConvertDateStr(x,'%Y/%m/%d'))\n",
    "trainData['earliest_cr_line_clean'] = trainData['earliest_cr_line'].map(lambda x: ConvertDateStr(x,'%Y/%m/%d'))\n",
    "\n",
    "# 处理mths_since_last_delinq。注意原始值中有0，所以用－1代替缺失\n",
    "trainData['mths_since_last_delinq_clean'] = trainData['mths_since_last_delinq'].map(lambda x:MakeupMissing(x))\n",
    "trainData['mths_since_last_record_clean'] = trainData['mths_since_last_record'].map(lambda x:MakeupMissing(x))\n",
    "trainData['pub_rec_bankruptcies_clean'] = trainData['pub_rec_bankruptcies'].map(lambda x:MakeupMissing(x))"
   ]
  },
  {
   "cell_type": "markdown",
   "metadata": {},
   "source": [
    "## 第二步：变量衍生"
   ]
  },
  {
   "cell_type": "code",
   "execution_count": 10,
   "metadata": {
    "ExecuteTime": {
     "end_time": "2020-08-16T13:32:40.660100Z",
     "start_time": "2020-08-16T13:32:40.655621Z"
    }
   },
   "outputs": [],
   "source": [
    "def MonthGap(earlyDate, lateDate):\n",
    "    if lateDate > earlyDate:\n",
    "        #计算相差的月份\n",
    "        gap = relativedelta(lateDate,earlyDate)\n",
    "        yr = gap.years\n",
    "        mth = gap.months\n",
    "        return yr*12+mth\n",
    "    else:\n",
    "        return 0"
   ]
  },
  {
   "cell_type": "code",
   "execution_count": 11,
   "metadata": {
    "ExecuteTime": {
     "end_time": "2020-08-16T13:32:45.050225Z",
     "start_time": "2020-08-16T13:32:41.527355Z"
    }
   },
   "outputs": [],
   "source": [
    "'''\n",
    "第二步：变量衍生\n",
    "'''\n",
    "# 考虑申请额度与收入的占比\n",
    "trainData['limit_income'] = trainData.apply(lambda x: x.loan_amnt / x.annual_inc, axis = 1)\n",
    "# 考虑earliest_cr_line到申请日期的跨度，以月份记\n",
    "trainData['earliest_cr_to_app'] = trainData.apply(lambda x: MonthGap(x.earliest_cr_line_clean,x.app_date_clean), axis = 1)"
   ]
  },
  {
   "cell_type": "markdown",
   "metadata": {},
   "source": [
    "### BinBadRate"
   ]
  },
  {
   "cell_type": "code",
   "execution_count": 18,
   "metadata": {
    "ExecuteTime": {
     "end_time": "2020-08-16T13:37:39.621987Z",
     "start_time": "2020-08-16T13:37:39.614469Z"
    }
   },
   "outputs": [],
   "source": [
    "#计算特征的坏样本率！\n",
    "def BinBadRate(df, col, target, grantRateIndicator=0):\n",
    "    '''   \n",
    "    :param df: 需要计算好坏比率的数据集\n",
    "    :param col: 需要计算好坏比率的特征\n",
    "    :param target: 好坏标签\n",
    "    :param grantRateIndicator: 1返回总体的坏样本率，0不返回\n",
    "    :return: 每箱的坏样本率，以及总体的坏样本率（当grantRateIndicator＝＝1时）\n",
    "    '''\n",
    "    #groupby()[]：只是为了选择【】中的列属性而已\n",
    "    total = df.groupby([col])[target].count()\n",
    "    #生成一个DF\n",
    "    total = pd.DataFrame({'total': total})\n",
    "    \"\"\"\n",
    "    home_ownership\n",
    "    MORTGAGE    7192\n",
    "    NONE           3\n",
    "    OTHER         64\n",
    "    OWN         1375\n",
    "    RENT        8823\n",
    "    Name: y, dtype: int64\n",
    "    \"\"\"\n",
    "    bad = df.groupby([col])[target].sum()\n",
    "    bad = pd.DataFrame({'bad': bad})\n",
    "    #将两个df进行left join操作，将左右索引作为连接条件。\n",
    "    regroup = total.merge(bad, left_index=True, right_index=True, how='left')\n",
    "    regroup.reset_index(level=0, inplace=True)\n",
    "    #统计坏账率：因为在预处理的时候就将数据转化为0、1模式。\n",
    "    regroup['bad_rate'] = regroup.apply(lambda x: x.bad * 1.0 / x.total, axis=1)\n",
    "    \"\"\"\n",
    "    regroup\n",
    " home_ownership  total   bad  bad_rate\n",
    "    0       MORTGAGE   7192   686  0.095384\n",
    "    1           NONE      3     0  0.000000\n",
    "    2          OTHER     64    10  0.156250\n",
    "    3            OWN   1375   142  0.103273\n",
    "    4           RENT   8823  1088  0.123314\n",
    "    \"\"\"\n",
    "    #zip():返回一个包含tuple的list，在这里也就是（col，bad_rate）的tuple列表\n",
    "    \n",
    "    dicts = dict(zip(regroup[col],regroup['bad_rate']))\n",
    "    \n",
    "    # print(dicts)\n",
    "    \"\"\"\n",
    "    {'MORTGAGE': 0.09538375973303671, 'NONE': 0.0, 'OTHER': 0.15625, 'OWN': 0.10327272727272727, 'RENT': 0.1233140655105973}\n",
    "    \"\"\"\n",
    "    # print(dicts)\n",
    "    if grantRateIndicator==0:\n",
    "        return (dicts, regroup)\n",
    "    N = sum(regroup['total'])\n",
    "    B = sum(regroup['bad'])\n",
    "    overallRate = B * 1.0 / N\n",
    "    return (dicts, regroup, overallRate)"
   ]
  },
  {
   "cell_type": "raw",
   "metadata": {},
   "source": [
    "#### BinBadRate返回值：dicts（每个值的坏样本率）, regroup（关于该属性坏样本率的详细信息）, overallRate（该属性总的坏样本率）\n",
    "{u'NONE': 0.0, u'OTHER': 0.22807017543859648, u'OWN': 0.11365313653136531, u'MORTGAGE': 0.09912170639899624, u'RENT': 0.11918571591038325},   \n",
    "home_ownership  total   bad  bad_rate\n",
    "0       MORTGAGE   7173   711  0.099122\n",
    "1           NONE      2     0  0.000000\n",
    "2          OTHER     57    13  0.228070\n",
    "3            OWN   1355   154  0.113653\n",
    "4           RENT   8793  1048  0.119186)"
   ]
  },
  {
   "cell_type": "markdown",
   "metadata": {
    "ExecuteTime": {
     "end_time": "2019-08-11T06:25:42.509000Z",
     "start_time": "2019-08-11T06:25:42.496000Z"
    }
   },
   "source": [
    "### MergeBad0"
   ]
  },
  {
   "cell_type": "code",
   "execution_count": 19,
   "metadata": {
    "ExecuteTime": {
     "end_time": "2020-08-16T13:37:51.239382Z",
     "start_time": "2020-08-16T13:37:51.230357Z"
    }
   },
   "outputs": [],
   "source": [
    "#合并特征中坏样本率为0的不同值\n",
    "def MergeBad0(df,col,target, direction='bad'):\n",
    "    '''\n",
    "     :param df: 包含检验0％或者100%坏样本率\n",
    "     :param col: 分箱后的变量或者类别型变量。检验其中是否有一组或者多组没有坏样本或者没有好样本。如果是，则需要进行合并\n",
    "     :param target: 目标变量，0、1表示好、坏\n",
    "     :return: 合并方案，使得每个组里同时包含好坏样本\n",
    "     '''\n",
    "    regroup = BinBadRate(df, col, target)[1]#【1】代表得到返回的第二个值\n",
    "    if direction == 'bad':\n",
    "        # 如果是合并0坏样本率的组，则跟最小的非0坏样本率的组进行合并\n",
    "        regroup = regroup.sort_values(by  = 'bad_rate')\n",
    "    else:\n",
    "        # 如果是合并0好样本样本率的组，则跟最小的非0好样本率的组进行合并\n",
    "        regroup = regroup.sort_values(by='bad_rate',ascending=False)\n",
    "    #regroup.shape[0]:拿到shape方法返回的第一个值即行数。注意【i】表达形式的含义\n",
    "    regroup.index = range(regroup.shape[0])\n",
    "    #将列数性col中的值转化为一个list\n",
    "    col_regroup = [[i] for i in regroup[col]]\n",
    "    # print col_regroup\n",
    "    \"\"\"\n",
    "    col_regroup\n",
    "[['NONE'], ['MORTGAGE'], ['OWN'], ['RENT'], ['OTHER']]\n",
    "    \"\"\"\n",
    "    del_index = []\n",
    "    for i in range(regroup.shape[0]-1):\n",
    "        col_regroup[i+1] = col_regroup[i] + col_regroup[i+1]\n",
    "        del_index.append(i)\n",
    "        if direction == 'bad':\n",
    "            if regroup['bad_rate'][i+1] > 0:\n",
    "                break\n",
    "        else:\n",
    "            if regroup['bad_rate'][i+1] < 1:\n",
    "                break\n",
    "    # print col_regroup\n",
    "    col_regroup2 = [col_regroup[i] for i in range(len(col_regroup)) if i not in del_index]\n",
    "    # print \"col 2\"\n",
    "    # print col_regroup2\n",
    "    newGroup = {}\n",
    "    for i in range(len(col_regroup2)):\n",
    "        for g2 in col_regroup2[i]:\n",
    "            newGroup[g2] = 'Bin '+str(i)\n",
    "#     print \"*\"*50\n",
    "#     print newGroup\n",
    "    \"\"\"\n",
    "    newGroup\n",
    "    **************************************************\n",
    "{'NONE': 'Bin 0', 'MORTGAGE': 'Bin 0', 'OWN': 'Bin 1', 'RENT': 'Bin 2', 'OTHER': 'Bin 3'}\n",
    "    \"\"\"\n",
    "    return newGroup"
   ]
  },
  {
   "cell_type": "markdown",
   "metadata": {},
   "source": [
    "### BadRateEncoding\n",
    "#返回值badRateEnconding：为特征中每个值的坏样本率，bad_rate：对应的dict，k为特征值的名称，v为坏样本率\n"
   ]
  },
  {
   "cell_type": "code",
   "execution_count": 20,
   "metadata": {
    "ExecuteTime": {
     "end_time": "2020-08-16T13:37:52.994775Z",
     "start_time": "2020-08-16T13:37:52.989261Z"
    }
   },
   "outputs": [],
   "source": [
    "#坏样本的编码（实质就是将坏样本率赋予对应的值）\n",
    "def BadRateEncoding(df, col, target):\n",
    "    '''\n",
    "    :param df: dataframe containing feature and target\n",
    "    :param col: the feature that needs to be encoded with bad rate, usually categorical type\n",
    "    :param target: good/bad indicator\n",
    "    :return: the assigned bad rate to encode the categorical feature\n",
    "    '''\n",
    "    regroup = BinBadRate(df, col, target, grantRateIndicator=0)[1]\n",
    "    br_dict = regroup[[col,'bad_rate']].set_index([col]).to_dict(orient='index')\n",
    "    for k, v in br_dict.items():\n",
    "        br_dict[k] = v['bad_rate']\n",
    "    badRateEnconding = df[col].map(lambda x: br_dict[x])\n",
    "    return {'encoding':badRateEnconding, 'bad_rate':br_dict}"
   ]
  },
  {
   "cell_type": "markdown",
   "metadata": {},
   "source": [
    "### AssignGroup"
   ]
  },
  {
   "cell_type": "code",
   "execution_count": 21,
   "metadata": {
    "ExecuteTime": {
     "end_time": "2020-08-16T13:37:54.355098Z",
     "start_time": "2020-08-16T13:37:54.349082Z"
    }
   },
   "outputs": [],
   "source": [
    "#样本按箱的划分规则进行分组\n",
    "def AssignGroup(x, bin):\n",
    "    '''\n",
    "    :param x: 某个变量的某个取值\n",
    "    :param bin: 上述变量的分箱结果\n",
    "    :return: x在分箱结果下的映射\n",
    "    '''\n",
    "    N = len(bin)\n",
    "    if x<=min(bin):\n",
    "        return min(bin)\n",
    "    elif x>max(bin):\n",
    "        return 10e10\n",
    "    else:\n",
    "        for i in range(N-1):\n",
    "            if bin[i] < x <= bin[i+1]:\n",
    "                return bin[i+1]"
   ]
  },
  {
   "cell_type": "markdown",
   "metadata": {},
   "source": [
    "### AssignBin"
   ]
  },
  {
   "cell_type": "code",
   "execution_count": 22,
   "metadata": {
    "ExecuteTime": {
     "end_time": "2020-08-16T13:37:55.483037Z",
     "start_time": "2020-08-16T13:37:55.477051Z"
    }
   },
   "outputs": [],
   "source": [
    "#执行分箱的操作，先将样本转化为带有标记的分箱结果，后续再进行实际的分箱\n",
    "def AssignBin(x, cutOffPoints,special_attribute=[]):\n",
    "    '''\n",
    "    :param x: 某个变量的某个取值\n",
    "    :param cutOffPoints: 上述变量的分箱结果，用切分点表示\n",
    "    :param special_attribute:  不参与分箱的特殊取值\n",
    "    :return: 分箱后的对应的第几个箱，从0开始\n",
    "    for example, if cutOffPoints = [10,20,30], if x = 7, return Bin 0. If x = 35, return Bin 3\n",
    "    '''\n",
    "    numBin = len(cutOffPoints) + 1 + len(special_attribute)\n",
    "    if x in special_attribute:\n",
    "        i = special_attribute.index(x)+1\n",
    "        return 'Bin {}'.format(0-i)\n",
    "    if x<=cutOffPoints[0]:\n",
    "        return 'Bin 0'\n",
    "    elif x > cutOffPoints[-1]:\n",
    "        return 'Bin {}'.format(numBin-1)\n",
    "    else:\n",
    "        for i in range(0,numBin-1):\n",
    "            if cutOffPoints[i] < x <=  cutOffPoints[i+1]:\n",
    "                return 'Bin {}'.format(i+1)"
   ]
  },
  {
   "cell_type": "markdown",
   "metadata": {},
   "source": [
    "### SplitData\n",
    "年收入属性的返回值：\n",
    "\n",
    "[14000.0, 17000.0, 19200.0, 21000.0, 23000.0, 24000.0, 25000.0, 26004.0, 27600.0, 28800.0, 30000.0, 31577.0, 32400.0, 33600.0, 34560.0, 35000.0, 35352.0, 36000.0, 36200.0, 37440.0, 38004.0, 39000.0, 40000.0, 41000.0, 42000.0, 43000.0, 44000.0, 45000.0, 45600.0, 46999.0, 48000.0, 49000.0, 50000.0, 50700.0, 51996.0, 52000.0, 53292.0, 54000.0, 55000.0, 56000.0, 57240.0, 58000.0, 60000.0, 61000.0, 62000.0, 63000.0, 64500.0, 65000.0, 66352.0, 68000.0, 69500.0, 70000.0, 72000.0, 72100.0, 74400.0, 75000.0, 77000.0, 78000.0, 80000.0, 82000.0, 84000.0, 85000.0, 87000.0, 90000.0, 92004.0, 95000.0, 97000.0, 100000.0, 104004.0, 108000.0, 110000.0, 115000.0, 120000.0, 123000.0, 130000.0, 135000.0, 144000.0, 154000.0, 174000.0, 200000.0]\n"
   ]
  },
  {
   "cell_type": "code",
   "execution_count": 30,
   "metadata": {
    "ExecuteTime": {
     "end_time": "2020-08-16T13:43:32.627345Z",
     "start_time": "2020-08-16T13:43:32.622833Z"
    }
   },
   "outputs": [],
   "source": [
    "def SplitData(df, col, numOfSplit, special_attribute=[]):\n",
    "    '''\n",
    "    :param df: 按照col排序后的数据集\n",
    "    :param col: 待分箱的变量\n",
    "    :param numOfSplit: 切分的组别数\n",
    "    :param special_attribute: 在切分数据集的时候，某些特殊值需要排除在外\n",
    "    :return: 在原数据集上增加一列，把原始细粒度的col重新划分成粗粒度的值，便于分箱中的合并处理\n",
    "    '''\n",
    "    df2 = df.copy()\n",
    "    if special_attribute != []:\n",
    "        df2 = df.loc[~df[col].isin(special_attribute)]\n",
    "    N = df2.shape[0]\n",
    "    n = int(N/numOfSplit)\n",
    "    splitPointIndex = [i*n for i in range(1,numOfSplit)]\n",
    "    # print splitPointIndex\n",
    "    rawValues = sorted(list(df2[col]))\n",
    "    # print rawValues\n",
    "    splitPoint = [rawValues[i] for i in splitPointIndex]\n",
    "    # print splitPoint\n",
    "    splitPoint = sorted(list(set(splitPoint)))\n",
    "    # print (len(splitPoint))\n",
    "    return splitPoint\n"
   ]
  },
  {
   "cell_type": "markdown",
   "metadata": {},
   "source": [
    "### Chi2"
   ]
  },
  {
   "cell_type": "code",
   "execution_count": 31,
   "metadata": {
    "ExecuteTime": {
     "end_time": "2020-08-16T13:43:37.074497Z",
     "start_time": "2020-08-16T13:43:37.069986Z"
    }
   },
   "outputs": [],
   "source": [
    "#计算卡方值\n",
    "def Chi2(df, total_col, bad_col, overallRate):\n",
    "    '''\n",
    "    :param df: 包含全部样本总计与坏样本总计的数据框\n",
    "    :param total_col: 全部样本的个数\n",
    "    :param bad_col: 坏样本的个数\n",
    "    :param overallRate: 全体样本的坏样本占比\n",
    "    :return: 卡方值\n",
    "    '''\n",
    "    df2 = df.copy()\n",
    "    # 期望坏样本个数＝全部样本个数*平均坏样本占比\n",
    "    df2['expected'] = df[total_col].apply(lambda x: x*overallRate)\n",
    "    combined = zip(df2['expected'], df2[bad_col])\n",
    "    chi = [(i[0]-i[1])**2/i[0] for i in combined]\n",
    "    chi2 = sum(chi)\n",
    "    return chi2"
   ]
  },
  {
   "cell_type": "markdown",
   "metadata": {},
   "source": [
    "### ChiMerge"
   ]
  },
  {
   "cell_type": "code",
   "execution_count": 32,
   "metadata": {
    "ExecuteTime": {
     "end_time": "2020-08-16T13:43:37.927460Z",
     "start_time": "2020-08-16T13:43:37.904397Z"
    }
   },
   "outputs": [],
   "source": [
    "#卡方分箱法\n",
    "### ChiMerge_MaxInterval: split the continuous variable using Chi-square value by specifying the max number of intervals\n",
    "def ChiMerge(df, col, target, max_interval=5,special_attribute=[],minBinPcnt=0):\n",
    "    '''\n",
    "    :param df: 包含目标变量与分箱属性的数据框\n",
    "    :param col: 需要分箱的属性\n",
    "    :param target: 目标变量，取值0或1\n",
    "    :param max_interval: 最大分箱数。如果原始属性的取值个数低于该参数，不执行这段函数\n",
    "    :param special_attribute: 不参与分箱的属性取值\n",
    "    :param minBinPcnt：最小箱的占比，默认为0\n",
    "    :return: 分箱结果\n",
    "    '''\n",
    "    colLevels = sorted(list(set(df[col])))\n",
    "    N_distinct = len(colLevels)\n",
    "    if N_distinct <= max_interval:  #如果原始属性的取值个数低于max_interval，不执行这段函数\n",
    "        print (\"The number of original levels for {} is less than or equal to max intervals\".format(col))\n",
    "        return colLevels[:-1]\n",
    "    else:\n",
    "        if len(special_attribute)>=1:\n",
    "            df1 = df.loc[df[col].isin(special_attribute)]\n",
    "            df2 = df.loc[~df[col].isin(special_attribute)]\n",
    "        else:\n",
    "            df2 = df.copy()\n",
    "        N_distinct = len(list(set(df2[col])))\n",
    "\n",
    "        # 步骤一: 通过col对数据集进行分组，求出每组的总样本数与坏样本数\n",
    "        if N_distinct > 100:\n",
    "            split_x = SplitData(df2, col, 100)\n",
    "            # print \"*\"*100\n",
    "            # print split_x\n",
    "            df2['temp'] = df2[col].map(lambda x: AssignGroup(x, split_x))\n",
    "        else:\n",
    "            df2['temp'] = df2[col]\n",
    "        # 总体bad rate将被用来计算expected bad count\n",
    "        (binBadRate, regroup, overallRate) = BinBadRate(df2, 'temp', target, grantRateIndicator=1)\n",
    "\n",
    "        # 首先，每个单独的属性值将被分为单独的一组\n",
    "        # 对属性值进行排序，然后两两组别进行合并\n",
    "        colLevels = sorted(list(set(df2['temp'])))\n",
    "        groupIntervals = [[i] for i in colLevels]\n",
    "\n",
    "        # 步骤二：建立循环，不断合并最优的相邻两个组别，直到：\n",
    "        # 1，最终分裂出来的分箱数<＝预设的最大分箱数\n",
    "        # 2，每箱的占比不低于预设值（可选）\n",
    "        # 3，每箱同时包含好坏样本\n",
    "        # 如果有特殊属性，那么最终分裂出来的分箱数＝预设的最大分箱数－特殊属性的个数\n",
    "        split_intervals = max_interval - len(special_attribute)\n",
    "        while (len(groupIntervals) > split_intervals):  # 终止条件: 当前分箱数＝预设的分箱数\n",
    "            # 每次循环时, 计算合并相邻组别后的卡方值。具有最小卡方值的合并方案，是最优方案\n",
    "            chisqList = []\n",
    "            for k in range(len(groupIntervals)-1):\n",
    "                temp_group = groupIntervals[k] + groupIntervals[k+1]\n",
    "                df2b = regroup.loc[regroup['temp'].isin(temp_group)]\n",
    "                chisq = Chi2(df2b, 'total', 'bad', overallRate)\n",
    "                chisqList.append(chisq)\n",
    "            best_comnbined = chisqList.index(min(chisqList))\n",
    "            groupIntervals[best_comnbined] = groupIntervals[best_comnbined] + groupIntervals[best_comnbined+1]\n",
    "            # after combining two intervals, we need to remove one of them\n",
    "            groupIntervals.remove(groupIntervals[best_comnbined+1])\n",
    "        groupIntervals = [sorted(i) for i in groupIntervals]\n",
    "        cutOffPoints = [max(i) for i in groupIntervals[:-1]]\n",
    "\n",
    "        # 检查是否有箱没有好或者坏样本。如果有，需要跟相邻的箱进行合并，直到每箱同时包含好坏样本\n",
    "        groupedvalues = df2['temp'].apply(lambda x: AssignBin(x, cutOffPoints))\n",
    "        df2['temp_Bin'] = groupedvalues\n",
    "        (binBadRate,regroup) = BinBadRate(df2, 'temp_Bin', target)\n",
    "        [minBadRate, maxBadRate] = [min(binBadRate.values()),max(binBadRate.values())]\n",
    "        while minBadRate ==0 or maxBadRate == 1:\n",
    "            # 找出全部为好／坏样本的箱\n",
    "            indexForBad01 = regroup[regroup['bad_rate'].isin([0,1])].temp_Bin.tolist()\n",
    "            bin=indexForBad01[0]\n",
    "            # 如果是最后一箱，则需要和上一个箱进行合并，也就意味着分裂点cutOffPoints中的最后一个需要移除\n",
    "            if bin == max(regroup.temp_Bin):\n",
    "                cutOffPoints = cutOffPoints[:-1]\n",
    "            # 如果是第一箱，则需要和下一个箱进行合并，也就意味着分裂点cutOffPoints中的第一个需要移除\n",
    "            elif bin == min(regroup.temp_Bin):\n",
    "                cutOffPoints = cutOffPoints[1:]\n",
    "            # 如果是中间的某一箱，则需要和前后中的一个箱进行合并，依据是较小的卡方值\n",
    "            else:\n",
    "                # 和前一箱进行合并，并且计算卡方值\n",
    "                currentIndex = list(regroup.temp_Bin).index(bin)\n",
    "                prevIndex = list(regroup.temp_Bin)[currentIndex - 1]\n",
    "                df3 = df2.loc[df2['temp_Bin'].isin([prevIndex, bin])]\n",
    "                (binBadRate, df2b) = BinBadRate(df3, 'temp_Bin', target)\n",
    "                chisq1 = Chi2(df2b, 'total', 'bad', overallRate)\n",
    "                # 和后一箱进行合并，并且计算卡方值\n",
    "                laterIndex = list(regroup.temp_Bin)[currentIndex + 1]\n",
    "                df3b = df2.loc[df2['temp_Bin'].isin([laterIndex, bin])]\n",
    "                (binBadRate, df2b) = BinBadRate(df3b, 'temp_Bin', target)\n",
    "                chisq2 = Chi2(df2b, 'total', 'bad', overallRate)\n",
    "                if chisq1 < chisq2:\n",
    "                    cutOffPoints.remove(cutOffPoints[currentIndex - 1])\n",
    "                else:\n",
    "                    cutOffPoints.remove(cutOffPoints[currentIndex])\n",
    "            # 完成合并之后，需要再次计算新的分箱准则下，每箱是否同时包含好坏样本\n",
    "            groupedvalues = df2['temp'].apply(lambda x: AssignBin(x, cutOffPoints))\n",
    "            df2['temp_Bin'] = groupedvalues\n",
    "            (binBadRate, regroup) = BinBadRate(df2, 'temp_Bin', target)\n",
    "            [minBadRate, maxBadRate] = [min(binBadRate.values()), max(binBadRate.values())]\n",
    "        # 需要检查分箱后的最小占比\n",
    "        if minBinPcnt > 0:\n",
    "            groupedvalues = df2['temp'].apply(lambda x: AssignBin(x, cutOffPoints))\n",
    "            df2['temp_Bin'] = groupedvalues\n",
    "            valueCounts = groupedvalues.value_counts().to_frame()\n",
    "            valueCounts['pcnt'] = valueCounts['temp'].apply(lambda x: x * 1.0 / N)\n",
    "            valueCounts = valueCounts.sort_index()\n",
    "            minPcnt = min(valueCounts['pcnt'])\n",
    "            while minPcnt < minBinPcnt and len(cutOffPoints) > 2:\n",
    "                # 找出占比最小的箱\n",
    "                indexForMinPcnt = valueCounts[valueCounts['pcnt'] == minPcnt].index.tolist()[0]\n",
    "                # 如果占比最小的箱是最后一箱，则需要和上一个箱进行合并，也就意味着分裂点cutOffPoints中的最后一个需要移除\n",
    "                if indexForMinPcnt == max(valueCounts.index):\n",
    "                    cutOffPoints = cutOffPoints[:-1]\n",
    "                # 如果占比最小的箱是第一箱，则需要和下一个箱进行合并，也就意味着分裂点cutOffPoints中的第一个需要移除\n",
    "                elif indexForMinPcnt == min(valueCounts.index):\n",
    "                    cutOffPoints = cutOffPoints[1:]\n",
    "                # 如果占比最小的箱是中间的某一箱，则需要和前后中的一个箱进行合并，依据是较小的卡方值\n",
    "                else:\n",
    "                    # 和前一箱进行合并，并且计算卡方值\n",
    "                    currentIndex = list(valueCounts.index).index(indexForMinPcnt)\n",
    "                    prevIndex = list(valueCounts.index)[currentIndex - 1]\n",
    "                    df3 = df2.loc[df2['temp_Bin'].isin([prevIndex, indexForMinPcnt])]\n",
    "                    (binBadRate, df2b) = BinBadRate(df3, 'temp_Bin', target)\n",
    "                    chisq1 = Chi2(df2b, 'total', 'bad', overallRate)\n",
    "                    # 和后一箱进行合并，并且计算卡方值\n",
    "                    laterIndex = list(valueCounts.index)[currentIndex + 1]\n",
    "                    df3b = df2.loc[df2['temp_Bin'].isin([laterIndex, indexForMinPcnt])]\n",
    "                    (binBadRate, df2b) = BinBadRate(df3b, 'temp_Bin', target)\n",
    "                    chisq2 = Chi2(df2b, 'total', 'bad', overallRate)\n",
    "                    if chisq1 < chisq2:\n",
    "                        cutOffPoints.remove(cutOffPoints[currentIndex - 1])\n",
    "                    else:\n",
    "                        cutOffPoints.remove(cutOffPoints[currentIndex])\n",
    "        cutOffPoints = special_attribute + cutOffPoints\n",
    "        return cutOffPoints"
   ]
  },
  {
   "cell_type": "code",
   "execution_count": 33,
   "metadata": {
    "ExecuteTime": {
     "end_time": "2020-08-16T13:43:38.206313Z",
     "start_time": "2020-08-16T13:43:38.198795Z"
    }
   },
   "outputs": [],
   "source": [
    "## 判断某变量的坏样本率是否单调\n",
    "def BadRateMonotone(df, sortByVar, target,special_attribute = []):\n",
    "    '''\n",
    "    :param df: 包含检验坏样本率的变量，和目标变量\n",
    "    :param sortByVar: 需要检验坏样本率的变量\n",
    "    :param target: 目标变量，0、1表示好、坏\n",
    "    :param special_attribute: 不参与检验的特殊值\n",
    "    :return: 坏样本率单调与否\n",
    "    '''\n",
    "    df2 = df.loc[~df[sortByVar].isin(special_attribute)]\n",
    "    if len(set(df2[sortByVar])) <= 2:\n",
    "        return True\n",
    "    regroup = BinBadRate(df2, sortByVar, target)[1]\n",
    "    combined = zip(regroup['total'],regroup['bad'])\n",
    "    badRate = [x[1]*1.0/x[0] for x in combined]\n",
    "    badRateNotMonotone = [badRate[i]<badRate[i+1] and badRate[i] < badRate[i-1] or badRate[i]>badRate[i+1] and badRate[i] > badRate[i-1]\n",
    "                       for i in range(1,len(badRate)-1)]\n",
    "    if True in badRateNotMonotone:\n",
    "        return False\n",
    "    else:\n",
    "        return True"
   ]
  },
  {
   "cell_type": "markdown",
   "metadata": {
    "ExecuteTime": {
     "end_time": "2019-08-11T06:32:24.004000Z",
     "start_time": "2019-08-11T06:32:24.001000Z"
    }
   },
   "source": [
    "## 第三步：分箱即变量离散化\n",
    "'''\n",
    "第三步：分箱，采用ChiMerge,要求分箱完之后：\n",
    "\n",
    "（1）不超过5箱\n",
    "\n",
    "（2）Bad Rate单调\n",
    "\n",
    "（3）每箱同时包含好坏样本\n",
    "\n",
    "（4）特殊值如－1，单独成一箱\n",
    "\n",
    "连续型变量可直接分箱\n",
    "\n",
    "类别型变量：\n",
    "\n",
    "（a）当取值较多时，先用bad rate编码，再用连续型分箱的方式进行分箱\n",
    "\n",
    "（b）当取值较少时：\n",
    "    \n",
    "    （b1）如果每种类别同时包含好坏样本，无需分箱\n",
    "    \n",
    "    （b2）如果有类别只包含好坏样本的一种，需要合并\n",
    "'''\n"
   ]
  },
  {
   "cell_type": "code",
   "execution_count": 34,
   "metadata": {
    "ExecuteTime": {
     "end_time": "2020-08-16T13:45:21.115851Z",
     "start_time": "2020-08-16T13:43:39.207863Z"
    }
   },
   "outputs": [
    {
     "name": "stdout",
     "output_type": "stream",
     "text": [
      "pub_rec_bankruptcies_clean need to be combined due to 0 bad rate\n",
      "int_rate_clean is in processing\n",
      "emp_length_clean is in processing\n",
      "annual_inc is in processing\n",
      "dti is in processing\n",
      "delinq_2yrs is in processing\n",
      "earliest_cr_to_app is in processing\n",
      "inq_last_6mths is in processing\n",
      "mths_since_last_record_clean is in processing\n",
      "mths_since_last_delinq_clean is in processing\n",
      "open_acc is in processing\n",
      "pub_rec is in processing\n",
      "The number of original levels for pub_rec is less than or equal to max intervals\n",
      "total_acc is in processing\n",
      "purpose_br_encoding is in processing\n",
      "zip_code_br_encoding is in processing\n",
      "addr_state_br_encoding is in processing\n"
     ]
    }
   ],
   "source": [
    "\n",
    "#连续型的变量\n",
    "num_features = ['int_rate_clean','emp_length_clean','annual_inc', 'dti', 'delinq_2yrs', 'earliest_cr_to_app','inq_last_6mths', \\\n",
    "                'mths_since_last_record_clean', 'mths_since_last_delinq_clean','open_acc','pub_rec','total_acc']\n",
    "#离散型的变量\n",
    "cat_features = ['home_ownership', 'verification_status','desc_clean', 'purpose', 'zip_code','addr_state','pub_rec_bankruptcies_clean']\n",
    "\n",
    "\n",
    "more_value_features = []\n",
    "less_value_features = []\n",
    "# 第一步，检查类别型变量中，哪些变量取值超过5\n",
    "# 第一步，检查类别型变量中，哪些变量取值超过5\n",
    "for var in cat_features:\n",
    "    #set：集合（不包含重复的元素）\n",
    "    valueCounts = len(set(trainData[var]))\n",
    "    # print (valueCounts)\n",
    "    if valueCounts > 5:\n",
    "        more_value_features.append(var)  #取值超过5的变量，需要bad rate编码，再用卡方分箱法进行分箱\n",
    "    else:\n",
    "        less_value_features.append(var)\n",
    "\n",
    "\n",
    "# （i）当取值<5时：如果每种类别同时包含好坏样本，无需分箱；如果有类别只包含好坏样本的一种，需要合并\n",
    "merge_bin_dict = {}  #存放需要合并的变量，以及合并方法\n",
    "var_bin_list = []   #由于某个取值没有好或者坏样本而需要合并的变量\n",
    "for col in less_value_features:\n",
    "    #先统计less_value_features中各个feature的坏样本率\n",
    "    binBadRate = BinBadRate(trainData, col, 'y')[0]#这个【0】代表取返回的多个变量中的第一个变量即对应的col的每个值的badrate\n",
    "    if min(binBadRate.values()) == 0 :  #由于某个取值没有坏样本，则需要进行合并\n",
    "        print ('{} need to be combined due to 0 bad rate'.format(col))\n",
    "        combine_bin = MergeBad0(trainData, col, 'y')\n",
    "        merge_bin_dict[col] = combine_bin\n",
    "        newVar = col + '_Bin'\n",
    "        trainData[newVar] = trainData[col].map(combine_bin)\n",
    "        var_bin_list.append(newVar)\n",
    "    if max(binBadRate.values()) == 1:    #由于某个取值没有好样本而进行合并\n",
    "        print ('{} need to be combined due to 0 good rate'.format(col))\n",
    "        combine_bin = MergeBad0(trainData, col, 'y',direction = 'good')\n",
    "        merge_bin_dict[col] = combine_bin\n",
    "        newVar = col + '_Bin'\n",
    "        trainData[newVar] = trainData[col].map(combine_bin)\n",
    "        var_bin_list.append(newVar)\n",
    "\n",
    "\n",
    "\n",
    "#less_value_features里剩下不需要合并的变量\n",
    "less_value_features = [i for i in less_value_features if i + '_Bin' not in var_bin_list]\n",
    "\n",
    "# （ii）当取值>5时：用bad rate进行编码，放入连续型变量里\n",
    "br_encoding_dict = {}   #记录按照bad rate进行编码的变量，及编码方式\n",
    "for col in more_value_features:\n",
    "    br_encoding = BadRateEncoding(trainData, col, 'y')\n",
    "    trainData[col+'_br_encoding'] = br_encoding['encoding']\n",
    "    br_encoding_dict[col] = br_encoding['bad_rate']\n",
    "    num_features.append(col+'_br_encoding')\n",
    "\n",
    "\n",
    "\n",
    "# （iii）对连续型变量进行分箱，包括（ii）中的变量\n",
    "continous_merged_dict = {}\n",
    "for col in num_features:\n",
    "    print (\"{} is in processing\".format(col))\n",
    "\n",
    "    if -1 not in set(trainData[col]):   #－1会当成特殊值处理。如果没有－1，则所有取值都参与分箱\n",
    "        max_interval = 5   #分箱后的最多的箱数\n",
    "        cutOff = ChiMerge(trainData, col, 'y', max_interval=max_interval,special_attribute=[],minBinPcnt=0)\n",
    "        trainData[col+'_Bin'] = trainData[col].map(lambda x: AssignBin(x, cutOff,special_attribute=[]))\n",
    "        monotone = BadRateMonotone(trainData, col+'_Bin', 'y')   # 检验分箱后的单调性是否满足\n",
    "        while(not monotone):\n",
    "            # 检验分箱后的单调性是否满足。如果不满足，则缩减分箱的个数。\n",
    "            max_interval -= 1\n",
    "            cutOff = ChiMerge(trainData, col, 'y', max_interval=max_interval, special_attribute=[],\n",
    "                              minBinPcnt=0)\n",
    "            trainData[col + '_Bin'] = trainData[col].map(lambda x: AssignBin(x, cutOff, special_attribute=[]))\n",
    "            if max_interval == 2:\n",
    "                # 当分箱数为2时，必然单调\n",
    "                break\n",
    "            monotone = BadRateMonotone(trainData, col + '_Bin', 'y')\n",
    "        newVar = col + '_Bin'\n",
    "        trainData[newVar] = trainData[col].map(lambda x: AssignBin(x, cutOff, special_attribute=[]))\n",
    "        var_bin_list.append(newVar)\n",
    "    else:\n",
    "        max_interval = 5\n",
    "        # 如果有－1，则除去－1后，其他取值参与分箱\n",
    "        cutOff = ChiMerge(trainData, col, 'y', max_interval=max_interval, special_attribute=[-1],\n",
    "                          minBinPcnt=0)\n",
    "        trainData[col + '_Bin'] = trainData[col].map(lambda x: AssignBin(x, cutOff, special_attribute=[-1]))\n",
    "        monotone = BadRateMonotone(trainData, col + '_Bin', 'y',['Bin -1'])\n",
    "        while (not monotone):\n",
    "            max_interval -= 1\n",
    "            # 如果有－1，－1的bad rate不参与单调性检验\n",
    "            cutOff = ChiMerge(trainData, col, 'y', max_interval=max_interval, special_attribute=[-1],\n",
    "                              minBinPcnt=0)\n",
    "            trainData[col + '_Bin'] = trainData[col].map(lambda x: AssignBin(x, cutOff, special_attribute=[-1]))\n",
    "            if max_interval == 3:\n",
    "                # 当分箱数为3-1=2时，必然单调\n",
    "                break\n",
    "            monotone = BadRateMonotone(trainData, col + '_Bin', 'y',['Bin -1'])\n",
    "        newVar = col + '_Bin'\n",
    "        trainData[newVar] = trainData[col].map(lambda x: AssignBin(x, cutOff, special_attribute=[-1]))\n",
    "        var_bin_list.append(newVar)\n",
    "    continous_merged_dict[col] = cutOff\n"
   ]
  },
  {
   "cell_type": "markdown",
   "metadata": {},
   "source": [
    "### binBadRate返回值"
   ]
  },
  {
   "cell_type": "code",
   "execution_count": 35,
   "metadata": {
    "ExecuteTime": {
     "end_time": "2020-08-16T13:45:32.660389Z",
     "start_time": "2020-08-16T13:45:32.645850Z"
    }
   },
   "outputs": [
    {
     "data": {
      "text/plain": [
       "({-1.0: 0.15402843601895735,\n",
       "  0.0: 0.1389433357091946,\n",
       "  1.0: 0.242728184553661,\n",
       "  2.0: 0.0},\n",
       "    pub_rec_bankruptcies_clean  total   bad  bad_rate\n",
       " 0                        -1.0    422    65  0.154028\n",
       " 1                         0.0  22448  3119  0.138943\n",
       " 2                         1.0    997   242  0.242728\n",
       " 3                         2.0      4     0  0.000000)"
      ]
     },
     "execution_count": 35,
     "metadata": {},
     "output_type": "execute_result"
    }
   ],
   "source": [
    "binBadRate_val"
   ]
  },
  {
   "cell_type": "markdown",
   "metadata": {},
   "source": [
    "### MergeBad0的返回结果"
   ]
  },
  {
   "cell_type": "code",
   "execution_count": 36,
   "metadata": {
    "ExecuteTime": {
     "end_time": "2020-08-16T13:45:36.805125Z",
     "start_time": "2020-08-16T13:45:36.798138Z"
    }
   },
   "outputs": [
    {
     "name": "stdout",
     "output_type": "stream",
     "text": [
      "MergeBad0的返回结果\n"
     ]
    },
    {
     "data": {
      "text/plain": [
       "{2.0: 'Bin 0', 0.0: 'Bin 0', -1.0: 'Bin 1', 1.0: 'Bin 2'}"
      ]
     },
     "execution_count": 36,
     "metadata": {},
     "output_type": "execute_result"
    }
   ],
   "source": [
    "print(\"MergeBad0的返回结果\")\n",
    "combine_bin"
   ]
  },
  {
   "cell_type": "markdown",
   "metadata": {
    "ExecuteTime": {
     "end_time": "2019-08-11T07:29:46.500000Z",
     "start_time": "2019-08-11T07:29:46.496000Z"
    }
   },
   "source": [
    "### BadRateEncoding的返回结果"
   ]
  },
  {
   "cell_type": "code",
   "execution_count": 37,
   "metadata": {
    "ExecuteTime": {
     "end_time": "2020-08-16T13:45:38.975164Z",
     "start_time": "2020-08-16T13:45:38.966140Z"
    }
   },
   "outputs": [
    {
     "name": "stdout",
     "output_type": "stream",
     "text": [
      "BadRateEncoding的返回结果\n"
     ]
    },
    {
     "data": {
      "text/plain": [
       "{'encoding': 29721    0.176130\n",
       " 2321     0.128898\n",
       " 27970    0.127353\n",
       " 38914    0.147139\n",
       " 4157     0.127841\n",
       "            ...   \n",
       " 27620    0.147826\n",
       " 29490    0.175627\n",
       " 32345    0.129132\n",
       " 15322    0.142857\n",
       " 17674    0.126949\n",
       " Name: addr_state, Length: 23871, dtype: float64,\n",
       " 'bad_rate': {'AK': 0.14,\n",
       "  'AL': 0.13059701492537312,\n",
       "  'AR': 0.09859154929577464,\n",
       "  'AZ': 0.1357142857142857,\n",
       "  'CA': 0.16290435187340005,\n",
       "  'CO': 0.11666666666666667,\n",
       "  'CT': 0.12076271186440678,\n",
       "  'DC': 0.09166666666666666,\n",
       "  'DE': 0.08620689655172414,\n",
       "  'FL': 0.1761297798377752,\n",
       "  'GA': 0.15610328638497653,\n",
       "  'HI': 0.16666666666666666,\n",
       "  'IA': 0.0,\n",
       "  'ID': 0.0,\n",
       "  'IL': 0.12694877505567928,\n",
       "  'IN': 0.0,\n",
       "  'KS': 0.13157894736842105,\n",
       "  'KY': 0.10256410256410256,\n",
       "  'LA': 0.12830188679245283,\n",
       "  'MA': 0.11719745222929936,\n",
       "  'MD': 0.16257668711656442,\n",
       "  'ME': 0.0,\n",
       "  'MI': 0.12698412698412698,\n",
       "  'MN': 0.14713896457765668,\n",
       "  'MO': 0.1570048309178744,\n",
       "  'MS': 0.14285714285714285,\n",
       "  'MT': 0.08888888888888889,\n",
       "  'NC': 0.1288981288981289,\n",
       "  'NE': 1.0,\n",
       "  'NH': 0.14285714285714285,\n",
       "  'NJ': 0.15391459074733096,\n",
       "  'NM': 0.14782608695652175,\n",
       "  'NV': 0.2168284789644013,\n",
       "  'NY': 0.12913177611282503,\n",
       "  'OH': 0.1278409090909091,\n",
       "  'OK': 0.1657754010695187,\n",
       "  'OR': 0.17562724014336917,\n",
       "  'PA': 0.1273532668881506,\n",
       "  'RI': 0.14035087719298245,\n",
       "  'SC': 0.11956521739130435,\n",
       "  'SD': 0.21428571428571427,\n",
       "  'TN': 0.16666666666666666,\n",
       "  'TX': 0.1245398773006135,\n",
       "  'UT': 0.15584415584415584,\n",
       "  'VA': 0.13214285714285715,\n",
       "  'VT': 0.14285714285714285,\n",
       "  'WA': 0.15274949083503056,\n",
       "  'WI': 0.13214285714285715,\n",
       "  'WV': 0.13829787234042554,\n",
       "  'WY': 0.02040816326530612}}"
      ]
     },
     "execution_count": 37,
     "metadata": {},
     "output_type": "execute_result"
    }
   ],
   "source": [
    "print(\"BadRateEncoding的返回结果\")\n",
    "br_encoding"
   ]
  },
  {
   "cell_type": "markdown",
   "metadata": {},
   "source": [
    "### ChiMerge的返回值"
   ]
  },
  {
   "cell_type": "code",
   "execution_count": 38,
   "metadata": {
    "ExecuteTime": {
     "end_time": "2020-08-16T13:45:40.715943Z",
     "start_time": "2020-08-16T13:45:40.710930Z"
    }
   },
   "outputs": [
    {
     "name": "stdout",
     "output_type": "stream",
     "text": [
      "ChiMerge的返回值：\n"
     ]
    },
    {
     "data": {
      "text/plain": [
       "[0.11666666666666667,\n",
       " 0.1273532668881506,\n",
       " 0.17562724014336917,\n",
       " 0.1761297798377752]"
      ]
     },
     "execution_count": 38,
     "metadata": {},
     "output_type": "execute_result"
    }
   ],
   "source": [
    "print(\"ChiMerge的返回值：\")\n",
    "cutOff"
   ]
  },
  {
   "cell_type": "markdown",
   "metadata": {},
   "source": [
    "### BadRateMonotone的返回值"
   ]
  },
  {
   "cell_type": "code",
   "execution_count": 39,
   "metadata": {
    "ExecuteTime": {
     "end_time": "2020-08-16T13:45:42.612825Z",
     "start_time": "2020-08-16T13:45:42.605305Z"
    }
   },
   "outputs": [
    {
     "name": "stdout",
     "output_type": "stream",
     "text": [
      "BadRateMonotone的返回值:\n"
     ]
    },
    {
     "data": {
      "text/plain": [
       "True"
      ]
     },
     "execution_count": 39,
     "metadata": {},
     "output_type": "execute_result"
    }
   ],
   "source": [
    "print(\"BadRateMonotone的返回值:\")\n",
    "monotone"
   ]
  },
  {
   "cell_type": "code",
   "execution_count": 40,
   "metadata": {
    "ExecuteTime": {
     "end_time": "2020-08-16T13:45:43.853832Z",
     "start_time": "2020-08-16T13:45:43.845811Z"
    }
   },
   "outputs": [],
   "source": [
    "def CalcWOE(df, col, target):\n",
    "    '''\n",
    "    :param df: 包含需要计算WOE的变量和目标变量\n",
    "    :param col: 需要计算WOE、IV的变量，必须是分箱后的变量，或者不需要分箱的类别型变量\n",
    "    :param target: 目标变量，0、1表示好、坏\n",
    "    :return: 返回WOE和IV\n",
    "    '''\n",
    "    total = df.groupby([col])[target].count()\n",
    "    total = pd.DataFrame({'total': total})\n",
    "    bad = df.groupby([col])[target].sum()\n",
    "    bad = pd.DataFrame({'bad': bad})\n",
    "    regroup = total.merge(bad, left_index=True, right_index=True, how='left')\n",
    "    regroup.reset_index(level=0, inplace=True)\n",
    "    N = sum(regroup['total'])\n",
    "    B = sum(regroup['bad'])\n",
    "    regroup['good'] = regroup['total'] - regroup['bad']\n",
    "    G = N - B\n",
    "    regroup['bad_pcnt'] = regroup['bad'].map(lambda x: x*1.0/B)\n",
    "    regroup['good_pcnt'] = regroup['good'].map(lambda x: x * 1.0 / G)\n",
    "    regroup['WOE'] = regroup.apply(lambda x: np.log(x.good_pcnt*1.0/x.bad_pcnt),axis = 1)\n",
    "    WOE_dict = regroup[[col,'WOE']].set_index(col).to_dict(orient='index')\n",
    "    for k, v in WOE_dict.items():\n",
    "        WOE_dict[k] = v['WOE']\n",
    "    IV = regroup.apply(lambda x: (x.good_pcnt-x.bad_pcnt)*np.log(x.good_pcnt*1.0/x.bad_pcnt),axis = 1)\n",
    "    IV = sum(IV)\n",
    "    return {\"WOE\": WOE_dict, 'IV':IV}"
   ]
  },
  {
   "cell_type": "markdown",
   "metadata": {},
   "source": [
    "## 第四步：WOE编码、计算IV\n",
    "\n",
    "分箱后的变量进行编码，包括：\n",
    "\n",
    "1，初始取值个数小于5，且不需要合并的类别型变量。存放在less_value_features中\n",
    "\n",
    "2，初始取值个数小于5，需要合并的类别型变量。合并后新的变量存放在var_bin_list中\n",
    "\n",
    "3，初始取值个数超过5，需要合并的类别型变量。合并后新的变量存放在var_bin_list中\n",
    "\n",
    "4，连续变量。分箱后新的变量存放在var_bin_list中\n"
   ]
  },
  {
   "cell_type": "code",
   "execution_count": 43,
   "metadata": {
    "ExecuteTime": {
     "end_time": "2020-08-16T13:46:24.633219Z",
     "start_time": "2020-08-16T13:46:24.117849Z"
    },
    "cell_style": "center",
    "hide_input": false
   },
   "outputs": [
    {
     "data": {
      "text/plain": [
       "<BarContainer object of 19 artists>"
      ]
     },
     "execution_count": 43,
     "metadata": {},
     "output_type": "execute_result"
    },
    {
     "data": {
      "image/png": "[encoded data removed]",
      "text/plain": [
       "<Figure size 432x288 with 1 Axes>"
      ]
     },
     "metadata": {
      "needs_background": "light"
     },
     "output_type": "display_data"
    }
   ],
   "source": [
    "import matplotlib.pyplot as plt\n",
    "\n",
    "'''\n",
    "第四步：WOE编码、计算IV\n",
    "'''\n",
    "WOE_dict = {}\n",
    "IV_dict = {}\n",
    "# 分箱后的变量进行编码，包括：\n",
    "# 1，初始取值个数小于5，且不需要合并的类别型变量。存放在less_value_features中\n",
    "# 2，初始取值个数小于5，需要合并的类别型变量。合并后新的变量存放在var_bin_list中\n",
    "# 3，初始取值个数超过5，需要合并的类别型变量。合并后新的变量存放在var_bin_list中\n",
    "# 4，连续变量。分箱后新的变量存放在var_bin_list中\n",
    "all_var = var_bin_list  + less_value_features\n",
    "for var in all_var:\n",
    "    woe_iv = CalcWOE(trainData, var, 'y')\n",
    "    WOE_dict[var] = woe_iv['WOE']\n",
    "    IV_dict[var] = woe_iv['IV']\n",
    "\n",
    "# file4 = open('WOE_dict.pkl','w')\n",
    "# pickle.dump(WOE_dict,file4)\n",
    "# file4.close()\n",
    "\n",
    "#将变量IV值进行降序排列，方便后续挑选变量\n",
    "IV_dict_sorted = sorted(IV_dict.items(), key=lambda x: x[1], reverse=True)\n",
    "IV_values = [i[1] for i in IV_dict_sorted]\n",
    "IV_name = [i[0] for i in IV_dict_sorted]\n",
    "plt.title('feature IV')\n",
    "plt.bar(range(len(IV_values)),IV_values)"
   ]
  },
  {
   "cell_type": "markdown",
   "metadata": {},
   "source": [
    "## 第五步：单变量分析和多变量分析，均基于WOE编码后的值。\n",
    "（1）选择IV高于0.01的变量\n",
    "\n",
    "（2）比较两两线性相关性。如果相关系数的绝对值高于阈值，剔除IV较低的一个\n"
   ]
  },
  {
   "cell_type": "code",
   "execution_count": 47,
   "metadata": {
    "ExecuteTime": {
     "end_time": "2020-08-16T13:47:47.032363Z",
     "start_time": "2020-08-16T13:47:46.024378Z"
    }
   },
   "outputs": [
    {
     "name": "stdout",
     "output_type": "stream",
     "text": [
      "1.0787330506381618\n"
     ]
    },
    {
     "data": {
      "image/png": "[encoded data removed]",
      "text/plain": [
       "<Figure size 720x576 with 2 Axes>"
      ]
     },
     "metadata": {
      "needs_background": "light"
     },
     "output_type": "display_data"
    }
   ],
   "source": [
    "import seaborn as sns\n",
    "from statsmodels.stats.outliers_influence import variance_inflation_factor\n",
    "\n",
    "\n",
    "#选取IV>0.01的变量\n",
    "high_IV = {k:v for k, v in IV_dict.items() if v >= 0.02}\n",
    "high_IV_sorted = sorted(high_IV.items(),key=lambda x:x[1],reverse=True)\n",
    "\n",
    "short_list = high_IV.keys()\n",
    "short_list_2 = []\n",
    "for var in short_list:\n",
    "    newVar = var + '_WOE'\n",
    "    trainData[newVar] = trainData[var].map(WOE_dict[var])\n",
    "    short_list_2.append(newVar)\n",
    "\n",
    "#对于上一步的结果，计算相关系数矩阵，并画出热力图进行数据可视化\n",
    "trainDataWOE = trainData[short_list_2]\n",
    "f, ax = plt.subplots(figsize=(10, 8))\n",
    "corr = trainDataWOE.corr()\n",
    "#sns.heatmap(corr, mask=np.zeros_like(corr, dtype=np.bool), cmap=sns.diverging_palette(220, 10, as_cmap=True),square=True, ax=ax)\n",
    "sns.heatmap(corr,annot=True)\n",
    "\n",
    "\n",
    "#两两间的线性相关性检验\n",
    "#1，将候选变量按照IV进行降序排列\n",
    "#2，计算第i和第i+1的变量的线性相关系数\n",
    "#3，对于系数超过阈值的两个变量，剔除IV较低的一个\n",
    "deleted_index = []\n",
    "cnt_vars = len(high_IV_sorted)\n",
    "for i in range(cnt_vars):\n",
    "    if i in deleted_index:\n",
    "        continue\n",
    "    x1 = high_IV_sorted[i][0]+\"_WOE\"\n",
    "    for j in range(cnt_vars):\n",
    "        if i == j or j in deleted_index:\n",
    "            continue\n",
    "        y1 = high_IV_sorted[j][0]+\"_WOE\"\n",
    "        roh = np.corrcoef(trainData[x1],trainData[y1])[0,1]\n",
    "        if abs(roh)>0.7:\n",
    "            x1_IV = high_IV_sorted[i][1]\n",
    "            y1_IV = high_IV_sorted[j][1]\n",
    "            if x1_IV > y1_IV:\n",
    "                deleted_index.append(j)\n",
    "            else:\n",
    "                deleted_index.append(i)\n",
    "\n",
    "multi_analysis_vars_1 = [high_IV_sorted[i][0]+\"_WOE\" for i in range(cnt_vars) if i not in deleted_index]\n",
    "\n",
    "'''\n",
    "多变量分析：VIF\n",
    "'''\n",
    "X = np.matrix(trainData[multi_analysis_vars_1])\n",
    "VIF_list = [variance_inflation_factor(X, i) for i in range(X.shape[1])]\n",
    "max_VIF = max(VIF_list)\n",
    "print (max_VIF)\n",
    "# 最大的VIF是1.32267733123，因此这一步认为没有多重共线性\n",
    "multi_analysis = multi_analysis_vars_1\n",
    "\n",
    "\n"
   ]
  },
  {
   "cell_type": "markdown",
   "metadata": {},
   "source": [
    "## 第六步：逻辑回归模型。\n",
    "要求：\n",
    "1，变量显著\n",
    "2，符号为负\n"
   ]
  },
  {
   "cell_type": "code",
   "execution_count": 51,
   "metadata": {
    "ExecuteTime": {
     "end_time": "2020-08-16T13:49:44.217880Z",
     "start_time": "2020-08-16T13:49:42.536043Z"
    }
   },
   "outputs": [
    {
     "name": "stdout",
     "output_type": "stream",
     "text": [
      "Optimization terminated successfully.\n",
      "         Current function value: 0.375133\n",
      "         Iterations 7\n",
      "Optimization terminated successfully.\n",
      "         Current function value: 0.375133\n",
      "         Iterations 7\n"
     ]
    }
   ],
   "source": [
    "import statsmodels.api as sm\n",
    "from sklearn.ensemble import RandomForestClassifier\n",
    "\n",
    "### (1)将多变量分析的后变量带入LR模型中\n",
    "y = trainData['y']\n",
    "X = trainData[multi_analysis]\n",
    "X['intercept'] = [1]*X.shape[0]\n",
    "\n",
    "\n",
    "LR = sm.Logit(y, X).fit()\n",
    "summary = LR.summary()\n",
    "pvals = LR.pvalues\n",
    "pvals = pvals.to_dict()\n",
    "\n",
    "### 有些变量不显著，需要逐步剔除\n",
    "varLargeP = {k: v for k,v in pvals.items() if v >= 0.1}\n",
    "varLargeP = sorted(varLargeP.items(), key=lambda d:d[1], reverse = True)\n",
    "while(len(varLargeP) > 0 and len(multi_analysis) > 0):\n",
    "    # 每次迭代中，剔除最不显著的变量，直到\n",
    "    # (1) 剩余所有变量均显著\n",
    "    # (2) 没有特征可选\n",
    "    varMaxP = varLargeP[0][0]\n",
    "    print (varMaxP)\n",
    "    if varMaxP == 'intercept':\n",
    "        print ('the intercept is not significant!')\n",
    "        break\n",
    "    multi_analysis.remove(varMaxP)\n",
    "    y = trainData['y']\n",
    "    X = trainData[multi_analysis]\n",
    "    X['intercept'] = [1] * X.shape[0]\n",
    "\n",
    "    LR = sm.Logit(y, X).fit()\n",
    "    #summary = LR.summary()\n",
    "    pvals = LR.pvalues\n",
    "    pvals = pvals.to_dict()\n",
    "    varLargeP = {k: v for k, v in pvals.items() if v >= 0.1}\n",
    "    varLargeP = sorted(varLargeP.items(), key=lambda d: d[1], reverse=True)\n",
    "\n",
    "'''\n",
    "int_rate_clean_Bin_WOE                 -0.923325\n",
    "zip_code_br_encoding_Bin_WOE           -0.913290\n",
    "purpose_br_encoding_Bin_WOE            -0.842351\n",
    "annual_inc_Bin_WOE                     -0.778415\n",
    "inq_last_6mths_Bin_WOE                 -0.871196\n",
    "addr_state_br_encoding_Bin_WOE         -0.618244\n",
    "mths_since_last_record_clean_Bin_WOE   -0.740668\n",
    "emp_length_clean_Bin_WOE               -0.702146\n",
    "home_ownership_Bin_WOE                 -0.396530\n",
    "dti_Bin_WOE                            -0.709372\n",
    "intercept                              -2.095788\n",
    "'''\n",
    "#\n",
    "#\n",
    "# saveModel =open(folderOfData+'LR_Model_Normal.pkl','w')\n",
    "# pickle.dump(LR,saveModel)\n",
    "# saveModel.close()\n",
    "#\n",
    "#\n",
    "\n",
    "\n",
    "#尝试用L1约束#\n",
    "## use cross validation to select the best regularization parameter\n",
    "# multi_analysis = multi_analysis_vars_1\n",
    "# X = trainData[multi_analysis]   #by default  LogisticRegressionCV() fill fit the intercept\n",
    "# X = np.matrix(X)\n",
    "# y = trainData['y']\n",
    "# y = np.array(y)\n",
    "#\n",
    "# X_train, X_test, y_train, y_test = train_test_split(X, y, test_size=0.4, random_state=0)\n",
    "# X_train.shape, y_train.shape\n",
    "# #\n",
    "# model_parameter = {}\n",
    "# for C_penalty in np.arange(0.005, 0.2,0.005):\n",
    "#     for bad_weight in range(2, 101, 2):\n",
    "#         print C_penalty, bad_weight\n",
    "#         LR_model_2 = LogisticRegressionCV(Cs=[C_penalty], penalty='l1', solver='liblinear', class_weight={1:bad_weight, 0:1})\n",
    "#         LR_model_2_fit = LR_model_2.fit(X_train,y_train)\n",
    "#         y_pred = LR_model_2_fit.predict_proba(X_test)[:,1]\n",
    "#         scorecard_result = pd.DataFrame({'prob':y_pred, 'target':y_test})\n",
    "#         performance = KS_AR(scorecard_result,'prob','target')\n",
    "#         KS = performance['KS']\n",
    "#         model_parameter[(C_penalty, bad_weight)] = KS\n",
    "\n",
    "# endtime = datetime.datetime.now()\n",
    "# print (endtime - starttime).seconds\n",
    "\n",
    "\n",
    "\n",
    "# 用随机森林法估计变量重要性#\n",
    "#\n",
    "var_WOE_list = multi_analysis_vars_1\n",
    "X = trainData[var_WOE_list]\n",
    "X = np.matrix(X)\n",
    "y = trainData['y']\n",
    "y = np.array(y)\n",
    "\n",
    "RFC = RandomForestClassifier()\n",
    "RFC_Model = RFC.fit(X,y)\n",
    "features_rfc = trainData[var_WOE_list].columns\n",
    "featureImportance = {features_rfc[i]:RFC_Model.feature_importances_[i] for i in range(len(features_rfc))}\n",
    "featureImportanceSorted = sorted(featureImportance.items(),key=lambda x: x[1], reverse=True)\n",
    "# we selecte the top 10 features\n",
    "features_selection = [k[0] for k in featureImportanceSorted[:8]]\n",
    "\n",
    "y = trainData['y']\n",
    "X = trainData[features_selection]\n",
    "X['intercept'] = [1]*X.shape[0]\n",
    "\n",
    "\n",
    "LR = sm.Logit(y, X).fit()\n",
    "summary = LR.summary()"
   ]
  },
  {
   "cell_type": "code",
   "execution_count": 52,
   "metadata": {
    "ExecuteTime": {
     "end_time": "2020-08-16T13:49:57.641526Z",
     "start_time": "2020-08-16T13:49:57.631499Z"
    }
   },
   "outputs": [],
   "source": [
    "### 计算KS值\n",
    "def KS(df, score, target):\n",
    "    '''\n",
    "    :param df: 包含目标变量与预测值的数据集\n",
    "    :param score: 得分或者概率\n",
    "    :param target: 目标变量\n",
    "    :return: KS值\n",
    "    '''\n",
    "    total = df.groupby([score])[target].count()\n",
    "    bad = df.groupby([score])[target].sum()\n",
    "    all = pd.DataFrame({'total':total, 'bad':bad})\n",
    "    all['good'] = all['total'] - all['bad']\n",
    "    all[score] = all.index\n",
    "    all = all.sort_values(by=score,ascending=False)\n",
    "    all.index = range(len(all))\n",
    "    all['badCumRate'] = all['bad'].cumsum() / all['bad'].sum()\n",
    "    all['goodCumRate'] = all['good'].cumsum() / all['good'].sum()\n",
    "    KS = all.apply(lambda x: x.badCumRate - x.goodCumRate, axis=1)\n",
    "    return max(KS)\n",
    "### Calculate the KS and AR for the socrecard model\n",
    "def KS_AR(df, score, target):\n",
    "    '''\n",
    "    :param df: the dataset containing probability and bad indicator\n",
    "    :param score:\n",
    "    :param target:\n",
    "    :return:\n",
    "    '''\n",
    "    total = df.groupby([score])[target].count()\n",
    "    bad = df.groupby([score])[target].sum()\n",
    "    all = pd.DataFrame({'total':total, 'bad':bad})\n",
    "    all['good'] = all['total'] - all['bad']\n",
    "    all[score] = all.index\n",
    "    all = all.sort_values(by=score,ascending=False)\n",
    "    all.index = range(len(all))\n",
    "    all['badCumRate'] = all['bad'].cumsum() / all['bad'].sum()\n",
    "    all['goodCumRate'] = all['good'].cumsum() / all['good'].sum()\n",
    "    all['totalPcnt'] = all['total'] / all['total'].sum()\n",
    "    arList = [0.5 * all.loc[0, 'badCumRate'] * all.loc[0, 'totalPcnt']]\n",
    "    for j in range(1, len(all)):\n",
    "        ar0 = 0.5 * sum(all.loc[j - 1:j, 'badCumRate']) * all.loc[j, 'totalPcnt']\n",
    "        arList.append(ar0)\n",
    "    arIndex = (2 * sum(arList) - 1) / (all['good'].sum() * 1.0 / all['total'].sum())\n",
    "    KS = all.apply(lambda x: x.badCumRate - x.goodCumRate, axis=1)\n",
    "    return {'AR':arIndex, 'KS': max(KS)}\n"
   ]
  },
  {
   "cell_type": "code",
   "execution_count": 54,
   "metadata": {
    "ExecuteTime": {
     "end_time": "2020-08-16T13:50:25.874688Z",
     "start_time": "2020-08-16T13:50:24.527731Z"
    }
   },
   "outputs": [
    {
     "name": "stdout",
     "output_type": "stream",
     "text": [
      "Optimization terminated successfully.\n",
      "         Current function value: 0.375133\n",
      "         Iterations 7\n"
     ]
    }
   ],
   "source": [
    "#############################################################################################################\n",
    "#尝试用L1约束#\n",
    "## use cross validation to select the best regularization parameter\n",
    "# multi_analysis = multi_analysis_vars_1\n",
    "# X = trainData[multi_analysis]   #by default  LogisticRegressionCV() fill fit the intercept\n",
    "# X = np.matrix(X)\n",
    "# y = trainData['y']\n",
    "# y = np.array(y)\n",
    "\n",
    "# X_train, X_test, y_train, y_test = train_test_split(X, y, test_size=0.4, random_state=0)\n",
    "# X_train.shape, y_train.shape\n",
    "# #\n",
    "# model_parameter = {}\n",
    "# for C_penalty in np.arange(0.005, 0.2,0.005):\n",
    "#     for bad_weight in range(2, 101, 2):\n",
    "#         print (C_penalty, bad_weight)\n",
    "#         LR_model_2 = LogisticRegressionCV(Cs=[C_penalty], penalty='l1', solver='liblinear', class_weight={1:bad_weight, 0:1})\n",
    "#         LR_model_2_fit = LR_model_2.fit(X_train,y_train)\n",
    "#         y_pred = LR_model_2_fit.predict_proba(X_test)[:,1]\n",
    "#         scorecard_result = pd.DataFrame({'prob':y_pred, 'target':y_test})\n",
    "#         performance = KS_AR(scorecard_result,'prob','target')\n",
    "#         KS = performance['KS']\n",
    "#         model_parameter[(C_penalty, bad_weight)] = KS\n",
    "\n",
    "# endtime = datetime.datetime.now()\n",
    "# print (endtime - starttime).seconds\n",
    "\n",
    "\n",
    "\n",
    "# 用随机森林法估计变量重要性#\n",
    "#\n",
    "var_WOE_list = multi_analysis_vars_1\n",
    "X = trainData[var_WOE_list]\n",
    "X = np.matrix(X)\n",
    "y = trainData['y']\n",
    "y = np.array(y)\n",
    "\n",
    "RFC = RandomForestClassifier()\n",
    "RFC_Model = RFC.fit(X,y)\n",
    "features_rfc = trainData[var_WOE_list].columns\n",
    "featureImportance = {features_rfc[i]:RFC_Model.feature_importances_[i] for i in range(len(features_rfc))}\n",
    "featureImportanceSorted = sorted(featureImportance.items(),key=lambda x: x[1], reverse=True)\n",
    "# we selecte the top 10 features\n",
    "features_selection = [k[0] for k in featureImportanceSorted[:8]]\n",
    "\n",
    "y = trainData['y']\n",
    "X = trainData[features_selection]\n",
    "X['intercept'] = [1]*X.shape[0]\n",
    "\n",
    "\n",
    "LR = sm.Logit(y, X).fit()\n",
    "summary = LR.summary()\n",
    "\n"
   ]
  },
  {
   "cell_type": "code",
   "execution_count": null,
   "metadata": {},
   "outputs": [],
   "source": []
  },
  {
   "cell_type": "code",
   "execution_count": null,
   "metadata": {},
   "outputs": [],
   "source": []
  },
  {
   "cell_type": "code",
   "execution_count": null,
   "metadata": {},
   "outputs": [],
   "source": []
  },
  {
   "cell_type": "code",
   "execution_count": null,
   "metadata": {},
   "outputs": [],
   "source": []
  },
  {
   "cell_type": "code",
   "execution_count": null,
   "metadata": {},
   "outputs": [],
   "source": []
  }
 ],
 "metadata": {
  "kernelspec": {
   "display_name": "Python 3",
   "language": "python",
   "name": "python3"
  },
  "language_info": {
   "codemirror_mode": {
    "name": "ipython",
    "version": 3
   },
   "file_extension": ".py",
   "mimetype": "text/x-python",
   "name": "python",
   "nbconvert_exporter": "python",
   "pygments_lexer": "ipython3",
   "version": "3.7.0"
  },
  "toc": {
   "base_numbering": 1.0,
   "nav_menu": {},
   "number_sections": true,
   "sideBar": true,
   "skip_h1_title": false,
   "title_cell": "Table of Contents",
   "title_sidebar": "Contents",
   "toc_cell": false,
   "toc_position": {
    "height": "calc(100% - 180px)",
    "left": "10px",
    "top": "150px",
    "width": "256px"
   },
   "toc_section_display": true,
   "toc_window_display": true
  }
 },
 "nbformat": 4,
 "nbformat_minor": 2
}
